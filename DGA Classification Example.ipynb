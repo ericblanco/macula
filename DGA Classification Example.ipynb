{
 "cells": [
  {
   "cell_type": "code",
   "execution_count": 1,
   "metadata": {
    "collapsed": false
   },
   "outputs": [],
   "source": [
    "%load_ext autoreload\n",
    "%autoreload 2\n",
    "%matplotlib inline"
   ]
  },
  {
   "cell_type": "code",
   "execution_count": 2,
   "metadata": {
    "collapsed": false
   },
   "outputs": [],
   "source": [
    "from pandas import read_table\n",
    "from models.dga_model import DGAClassifier"
   ]
  },
  {
   "cell_type": "code",
   "execution_count": 3,
   "metadata": {
    "collapsed": false
   },
   "outputs": [
    {
     "data": {
      "text/html": [
       "<div>\n",
       "<table border=\"1\" class=\"dataframe\">\n",
       "  <thead>\n",
       "    <tr style=\"text-align: right;\">\n",
       "      <th></th>\n",
       "      <th>label</th>\n",
       "      <th>domain</th>\n",
       "    </tr>\n",
       "  </thead>\n",
       "  <tbody>\n",
       "    <tr>\n",
       "      <th>0</th>\n",
       "      <td>benign</td>\n",
       "      <td>b.alot.com</td>\n",
       "    </tr>\n",
       "    <tr>\n",
       "      <th>1</th>\n",
       "      <td>dga</td>\n",
       "      <td>o1jki4us41vya9t8t3fiux3a.net</td>\n",
       "    </tr>\n",
       "    <tr>\n",
       "      <th>2</th>\n",
       "      <td>benign</td>\n",
       "      <td>freesexmatch.com</td>\n",
       "    </tr>\n",
       "    <tr>\n",
       "      <th>3</th>\n",
       "      <td>benign</td>\n",
       "      <td>columbiasc.edu</td>\n",
       "    </tr>\n",
       "    <tr>\n",
       "      <th>4</th>\n",
       "      <td>benign</td>\n",
       "      <td>a184-84-91-165.deploy.static.akamaitechnologie...</td>\n",
       "    </tr>\n",
       "  </tbody>\n",
       "</table>\n",
       "</div>"
      ],
      "text/plain": [
       "    label                                             domain\n",
       "0  benign                                         b.alot.com\n",
       "1     dga                       o1jki4us41vya9t8t3fiux3a.net\n",
       "2  benign                                   freesexmatch.com\n",
       "3  benign                                     columbiasc.edu\n",
       "4  benign  a184-84-91-165.deploy.static.akamaitechnologie..."
      ]
     },
     "execution_count": 3,
     "metadata": {},
     "output_type": "execute_result"
    }
   ],
   "source": [
    "test_df = read_table('data/dga_domain_testing_3000.csv', sep=',')\n",
    "# test_df.index = test_df.domain\n",
    "test_df.head()"
   ]
  },
  {
   "cell_type": "code",
   "execution_count": 4,
   "metadata": {
    "collapsed": true
   },
   "outputs": [],
   "source": [
    "domains = list(test_df.domain)\n",
    "labels = list(test_df.label)"
   ]
  },
  {
   "cell_type": "code",
   "execution_count": 5,
   "metadata": {
    "collapsed": false
   },
   "outputs": [
    {
     "name": "stdout",
     "output_type": "stream",
     "text": [
      "Fitting 3 folds for each of 2 candidates, totalling 6 fits\n",
      "[CV] rfc__criterion=entropy, rfc__min_samples_split=1, rfc__min_weight_fraction_leaf=0, rfc__n_estimators=200, rfc__min_samples_leaf=2 \n",
      "[CV]  rfc__criterion=entropy, rfc__min_samples_split=1, rfc__min_weight_fraction_leaf=0, rfc__n_estimators=200, rfc__min_samples_leaf=2, score=0.907000 -   0.8s\n",
      "[CV] rfc__criterion=entropy, rfc__min_samples_split=1, rfc__min_weight_fraction_leaf=0, rfc__n_estimators=200, rfc__min_samples_leaf=2 \n",
      "[CV]  rfc__criterion=entropy, rfc__min_samples_split=1, rfc__min_weight_fraction_leaf=0, rfc__n_estimators=200, rfc__min_samples_leaf=2, score=0.891000 -   0.8s"
     ]
    },
    {
     "name": "stderr",
     "output_type": "stream",
     "text": [
      "[Parallel(n_jobs=1)]: Done   1 jobs       | elapsed:    0.8s\n",
      "[Parallel(n_jobs=1)]: Done   2 jobs       | elapsed:    1.6s\n"
     ]
    },
    {
     "name": "stdout",
     "output_type": "stream",
     "text": [
      "\n",
      "[CV] rfc__criterion=entropy, rfc__min_samples_split=1, rfc__min_weight_fraction_leaf=0, rfc__n_estimators=200, rfc__min_samples_leaf=2 \n",
      "[CV]  rfc__criterion=entropy, rfc__min_samples_split=1, rfc__min_weight_fraction_leaf=0, rfc__n_estimators=200, rfc__min_samples_leaf=2, score=0.894000 -   0.8s\n",
      "[CV] rfc__criterion=entropy, rfc__min_samples_split=1, rfc__min_weight_fraction_leaf=0, rfc__n_estimators=200, rfc__min_samples_leaf=3 \n",
      "[CV]  rfc__criterion=entropy, rfc__min_samples_split=1, rfc__min_weight_fraction_leaf=0, rfc__n_estimators=200, rfc__min_samples_leaf=3, score=0.906000 -   0.8s\n",
      "[CV] rfc__criterion=entropy, rfc__min_samples_split=1, rfc__min_weight_fraction_leaf=0, rfc__n_estimators=200, rfc__min_samples_leaf=3 \n",
      "[CV]  rfc__criterion=entropy, rfc__min_samples_split=1, rfc__min_weight_fraction_leaf=0, rfc__n_estimators=200, rfc__min_samples_leaf=3, score=0.895000 -   0.8s\n",
      "[CV] rfc__criterion=entropy, rfc__min_samples_split=1, rfc__min_weight_fraction_leaf=0, rfc__n_estimators=200, rfc__min_samples_leaf=3 \n",
      "[CV]  rfc__criterion=entropy, rfc__min_samples_split=1, rfc__min_weight_fraction_leaf=0, rfc__n_estimators=200, rfc__min_samples_leaf=3, score=0.892000 -   0.8s"
     ]
    },
    {
     "name": "stderr",
     "output_type": "stream",
     "text": [
      "[Parallel(n_jobs=1)]: Done   5 jobs       | elapsed:    4.1s\n",
      "[Parallel(n_jobs=1)]: Done   6 out of   6 | elapsed:    4.9s finished\n"
     ]
    },
    {
     "name": "stdout",
     "output_type": "stream",
     "text": [
      "\n",
      "grid results:  [mean: 0.89733, std: 0.00694, params: {'rfc__criterion': 'entropy', 'rfc__min_samples_split': 1, 'rfc__min_weight_fraction_leaf': 0, 'rfc__n_estimators': 200, 'rfc__min_samples_leaf': 2}, mean: 0.89767, std: 0.00602, params: {'rfc__criterion': 'entropy', 'rfc__min_samples_split': 1, 'rfc__min_weight_fraction_leaf': 0, 'rfc__n_estimators': 200, 'rfc__min_samples_leaf': 3}]\n",
      "Trained to a top score of:  0.897666666667\n",
      "Best model had params:  {'rfc__criterion': 'entropy', 'rfc__min_samples_split': 1, 'rfc__min_weight_fraction_leaf': 0, 'rfc__n_estimators': 200, 'rfc__min_samples_leaf': 3}\n"
     ]
    },
    {
     "data": {
      "text/plain": [
       "Pipeline(steps=[('dfe', DomainFeatureExtractor()), ('df_to_records', DFtoRecordsTransformer()), ('vectorizer', DictVectorizer(dtype=<type 'numpy.float64'>, separator='=', sort=True,\n",
       "        sparse=True)), ('imputer', Imputer(axis=0, copy=True, missing_values='NaN', strategy='most_frequent',\n",
       "    verbose=0)), ...obs=-1,\n",
       "            oob_score=False, random_state=519447, verbose=0,\n",
       "            warm_start=False))])"
      ]
     },
     "execution_count": 5,
     "metadata": {},
     "output_type": "execute_result"
    }
   ],
   "source": [
    "dga_classifier = DGAClassifier()\n",
    "dga_classifier.train(domains, labels)"
   ]
  },
  {
   "cell_type": "code",
   "execution_count": 6,
   "metadata": {
    "collapsed": false
   },
   "outputs": [
    {
     "data": {
      "text/plain": [
       "{'1lc6v7uxf56u4al0c5a1dyzzyq.net': 'dga',\n",
       " '1sdpn303yh7sp1ps3amy1fv3ugw.net': 'dga',\n",
       " 'a184-84-91-165.deploy.static.akamaitechnologies.com': 'benign',\n",
       " 'b.alot.com': 'benign',\n",
       " 'columbiasc.edu': 'benign',\n",
       " 'dgrmnaqpdrbk.biz': 'dga',\n",
       " 'freesexmatch.com': 'benign',\n",
       " 'o1jki4us41vya9t8t3fiux3a.net': 'dga',\n",
       " 'playtech.com.br': 'benign',\n",
       " 'san-petersburgo.com': 'benign'}"
      ]
     },
     "execution_count": 6,
     "metadata": {},
     "output_type": "execute_result"
    }
   ],
   "source": [
    "preds = dga_classifier.predict(domains[:10])\n",
    "preds"
   ]
  },
  {
   "cell_type": "code",
   "execution_count": 7,
   "metadata": {
    "collapsed": false
   },
   "outputs": [
    {
     "data": {
      "text/plain": [
       "{'1lc6v7uxf56u4al0c5a1dyzzyq.net': {'benign': 0.0, 'dga': 1.0},\n",
       " '1sdpn303yh7sp1ps3amy1fv3ugw.net': {'benign': 0.0, 'dga': 1.0},\n",
       " 'a184-84-91-165.deploy.static.akamaitechnologies.com': {'benign': 0.86964967542636162,\n",
       "  'dga': 0.13035032457363824},\n",
       " 'b.alot.com': {'benign': 0.9994921455424276, 'dga': 0.00050785445757250275},\n",
       " 'columbiasc.edu': {'benign': 0.97391673011502278,\n",
       "  'dga': 0.026083269884977306},\n",
       " 'dgrmnaqpdrbk.biz': {'benign': 0.027594471080159111,\n",
       "  'dga': 0.972405528919841},\n",
       " 'freesexmatch.com': {'benign': 0.94648795983745881,\n",
       "  'dga': 0.053512040162541102},\n",
       " 'o1jki4us41vya9t8t3fiux3a.net': {'benign': 0.11899967744423284,\n",
       "  'dga': 0.8810003225557671},\n",
       " 'playtech.com.br': {'benign': 0.54238700358867231,\n",
       "  'dga': 0.45761299641132774},\n",
       " 'san-petersburgo.com': {'benign': 0.76389349746832735,\n",
       "  'dga': 0.23610650253167317}}"
      ]
     },
     "execution_count": 7,
     "metadata": {},
     "output_type": "execute_result"
    }
   ],
   "source": [
    "# Query model for probability scores.  \n",
    "preds = dga_classifier.predict_proba(domains[:10])\n",
    "preds"
   ]
  },
  {
   "cell_type": "code",
   "execution_count": 8,
   "metadata": {
    "collapsed": true
   },
   "outputs": [],
   "source": [
    "# Save model to a file\n",
    "test_fn = 'DGAClassifierTest__save_load_test.pkl.tmp'\n",
    "dga_classifier.save(test_fn)"
   ]
  },
  {
   "cell_type": "code",
   "execution_count": 9,
   "metadata": {
    "collapsed": true
   },
   "outputs": [],
   "source": [
    "# Load from a saved model file\n",
    "loaded_dga_classifier = DGAClassifier.load(test_fn)"
   ]
  },
  {
   "cell_type": "markdown",
   "metadata": {},
   "source": [
    "# DGA Classifier Model Evaluation"
   ]
  },
  {
   "cell_type": "code",
   "execution_count": 10,
   "metadata": {
    "collapsed": true
   },
   "outputs": [],
   "source": [
    "eval_df = test_df = read_table('data/dga_domain_split_validation.csv', sep=',')\n",
    "eval_domains = list(eval_df.domain)\n",
    "eval_labels = list(eval_df.label)"
   ]
  },
  {
   "cell_type": "code",
   "execution_count": 11,
   "metadata": {
    "collapsed": false
   },
   "outputs": [
    {
     "data": {
      "image/png": "[encoded data removed]",
      "text/plain": [
       "<matplotlib.figure.Figure at 0x10b6b4c10>"
      ]
     },
     "metadata": {},
     "output_type": "display_data"
    }
   ],
   "source": [
    "from sklearn.metrics import precision_recall_curve\n",
    "from sklearn.metrics import average_precision_score\n",
    "import matplotlib.pyplot as plt\n",
    " \n",
    "pred_probs = dga_classifier.predict_proba(eval_domains)\n",
    "scores = [pred_probs[d]['dga'] for d in eval_domains]\n",
    "\n",
    "y_true = [1 if l=='dga' else 0 for l in eval_labels]\n",
    "precision, recall, _ = precision_recall_curve(y_true, scores, pos_label=1)\n",
    "average_precision = average_precision_score(y_true, scores)\n",
    "\n",
    "plt.plot(recall, precision, label='area = %0.2f' % average_precision, color=\"green\")\n",
    "plt.xlim([0.0, 1.0])\n",
    "plt.ylim([0.0, 1.05])\n",
    "plt.xlabel('Recall')\n",
    "plt.ylabel('Precision')\n",
    "plt.title('Precision Recall Curve')\n",
    "plt.legend(loc=\"lower right\")\n",
    "plt.show()"
   ]
  },
  {
   "cell_type": "code",
   "execution_count": 12,
   "metadata": {
    "collapsed": false
   },
   "outputs": [
    {
     "data": {
      "image/png": "[encoded data removed]",
      "text/plain": [
       "<matplotlib.figure.Figure at 0x10c2be7d0>"
      ]
     },
     "metadata": {},
     "output_type": "display_data"
    }
   ],
   "source": [
    "from sklearn.metrics import roc_curve, auc\n",
    "fpr, tpr, threshold = roc_curve(y_true, scores)\n",
    "roc_auc = auc(fpr, tpr)\n",
    "\n",
    "# # Compute micro-average ROC curve and ROC area\n",
    "# fpr[\"micro\"], tpr[\"micro\"], _ = roc_curve(y_test.ravel(), y_score.ravel())\n",
    "# roc_auc[\"micro\"] = auc(fpr[\"micro\"], tpr[\"micro\"])\n",
    "\n",
    "plt.figure()\n",
    "plt.plot(fpr, tpr, label='ROC curve (area = %0.2f)' % roc_auc)\n",
    "plt.plot([0, 1], [0, 1], 'k--')\n",
    "plt.xlim([0.0, 1.0])\n",
    "plt.ylim([0.0, 1.05])\n",
    "plt.xlabel('False Positive Rate')\n",
    "plt.ylabel('True Positive Rate')\n",
    "plt.title('Receiver operating characteristic example')\n",
    "plt.legend(loc=\"lower right\")\n",
    "plt.show()"
   ]
  },
  {
   "cell_type": "code",
   "execution_count": 13,
   "metadata": {
    "collapsed": false
   },
   "outputs": [
    {
     "data": {
      "text/plain": [
       "array([[236218,  27203],\n",
       "       [ 31090, 231244]])"
      ]
     },
     "execution_count": 13,
     "metadata": {},
     "output_type": "execute_result"
    }
   ],
   "source": [
    "from sklearn.metrics import confusion_matrix\n",
    "pred = dga_classifier.predict(eval_domains)\n",
    "y_pred = [pred[d]=='dga' for d in eval_domains]\n",
    "conf_matrix = confusion_matrix(y_true, y_pred)\n",
    "conf_matrix"
   ]
  },
  {
   "cell_type": "code",
   "execution_count": 14,
   "metadata": {
    "collapsed": false
   },
   "outputs": [
    {
     "data": {
      "text/plain": [
       "array([[ 0.44929292,  0.05174083],\n",
       "       [ 0.05913401,  0.43983224]])"
      ]
     },
     "execution_count": 14,
     "metadata": {},
     "output_type": "execute_result"
    }
   ],
   "source": [
    "conf_matrix / float(len(eval_domains))"
   ]
  },
  {
   "cell_type": "code",
   "execution_count": 15,
   "metadata": {
    "collapsed": false
   },
   "outputs": [],
   "source": [
    "from pandas import concat, Series\n",
    "roc_lines = concat([Series(fpr, name='fp_rate'), Series(tpr, name='tp_rate'), Series(threshold, name='threshold')], axis=1)"
   ]
  },
  {
   "cell_type": "markdown",
   "metadata": {},
   "source": [
    "## What probability threashold should I use for maximal True Positive Rate if my False Positive Rate cannot exceed 1%?"
   ]
  },
  {
   "cell_type": "code",
   "execution_count": 16,
   "metadata": {
    "collapsed": false
   },
   "outputs": [
    {
     "data": {
      "text/html": [
       "<div>\n",
       "<table border=\"1\" class=\"dataframe\">\n",
       "  <thead>\n",
       "    <tr style=\"text-align: right;\">\n",
       "      <th></th>\n",
       "      <th>fp_rate</th>\n",
       "      <th>tp_rate</th>\n",
       "      <th>threshold</th>\n",
       "    </tr>\n",
       "  </thead>\n",
       "  <tbody>\n",
       "    <tr>\n",
       "      <th>64560</th>\n",
       "      <td>0.009999</td>\n",
       "      <td>0.659083</td>\n",
       "      <td>0.896921</td>\n",
       "    </tr>\n",
       "    <tr>\n",
       "      <th>64559</th>\n",
       "      <td>0.009999</td>\n",
       "      <td>0.659080</td>\n",
       "      <td>0.896923</td>\n",
       "    </tr>\n",
       "    <tr>\n",
       "      <th>64558</th>\n",
       "      <td>0.009999</td>\n",
       "      <td>0.659076</td>\n",
       "      <td>0.896927</td>\n",
       "    </tr>\n",
       "    <tr>\n",
       "      <th>64557</th>\n",
       "      <td>0.009995</td>\n",
       "      <td>0.658958</td>\n",
       "      <td>0.896929</td>\n",
       "    </tr>\n",
       "    <tr>\n",
       "      <th>64556</th>\n",
       "      <td>0.009995</td>\n",
       "      <td>0.658954</td>\n",
       "      <td>0.896934</td>\n",
       "    </tr>\n",
       "  </tbody>\n",
       "</table>\n",
       "</div>"
      ],
      "text/plain": [
       "        fp_rate   tp_rate  threshold\n",
       "64560  0.009999  0.659083   0.896921\n",
       "64559  0.009999  0.659080   0.896923\n",
       "64558  0.009999  0.659076   0.896927\n",
       "64557  0.009995  0.658958   0.896929\n",
       "64556  0.009995  0.658954   0.896934"
      ]
     },
     "execution_count": 16,
     "metadata": {},
     "output_type": "execute_result"
    }
   ],
   "source": [
    "roc_lines[roc_lines.fp_rate<.01].sort('tp_rate', ascending=False).head()"
   ]
  },
  {
   "cell_type": "markdown",
   "metadata": {},
   "source": [
    "###If my False Positive Rate tolerance is 1%, then my True Positive Rate will be 55% and my probability or classification threshold will need to be 0.861342"
   ]
  },
  {
   "cell_type": "code",
   "execution_count": null,
   "metadata": {
    "collapsed": true
   },
   "outputs": [],
   "source": []
  }
 ],
 "metadata": {
  "kernelspec": {
   "display_name": "Python 2",
   "language": "python",
   "name": "python2"
  },
  "language_info": {
   "codemirror_mode": {
    "name": "ipython",
    "version": 2
   },
   "file_extension": ".py",
   "mimetype": "text/x-python",
   "name": "python",
   "nbconvert_exporter": "python",
   "pygments_lexer": "ipython2",
   "version": "2.7.10"
  }
 },
 "nbformat": 4,
 "nbformat_minor": 0
}
